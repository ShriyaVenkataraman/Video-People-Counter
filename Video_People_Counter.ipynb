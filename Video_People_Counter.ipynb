{
  "nbformat": 4,
  "nbformat_minor": 0,
  "metadata": {
    "colab": {
      "provenance": []
    },
    "kernelspec": {
      "name": "python3",
      "display_name": "Python 3"
    },
    "language_info": {
      "name": "python"
    }
  },
  "cells": [
    {
      "cell_type": "code",
      "execution_count": 1,
      "metadata": {
        "colab": {
          "base_uri": "https://localhost:8080/"
        },
        "id": "o5aQ_D2Z_Q9a",
        "outputId": "970a6870-c0e4-4d96-bd8c-a9d8dc97353a"
      },
      "outputs": [
        {
          "output_type": "stream",
          "name": "stdout",
          "text": [
            "Requirement already satisfied: requests in /usr/local/lib/python3.10/dist-packages (2.31.0)\n",
            "Requirement already satisfied: charset-normalizer<4,>=2 in /usr/local/lib/python3.10/dist-packages (from requests) (3.3.2)\n",
            "Requirement already satisfied: idna<4,>=2.5 in /usr/local/lib/python3.10/dist-packages (from requests) (3.4)\n",
            "Requirement already satisfied: urllib3<3,>=1.21.1 in /usr/local/lib/python3.10/dist-packages (from requests) (2.0.7)\n",
            "Requirement already satisfied: certifi>=2017.4.17 in /usr/local/lib/python3.10/dist-packages (from requests) (2023.7.22)\n"
          ]
        }
      ],
      "source": [
        "!pip install requests"
      ]
    },
    {
      "cell_type": "code",
      "source": [
        "!pip install opencv-python opencv-contrib-python"
      ],
      "metadata": {
        "colab": {
          "base_uri": "https://localhost:8080/"
        },
        "id": "qTpUqKkj_kX3",
        "outputId": "ae9f0d1a-4130-4834-923b-44b0121ac93b"
      },
      "execution_count": 2,
      "outputs": [
        {
          "output_type": "stream",
          "name": "stdout",
          "text": [
            "Requirement already satisfied: opencv-python in /usr/local/lib/python3.10/dist-packages (4.8.0.76)\n",
            "Requirement already satisfied: opencv-contrib-python in /usr/local/lib/python3.10/dist-packages (4.8.0.76)\n",
            "Requirement already satisfied: numpy>=1.21.2 in /usr/local/lib/python3.10/dist-packages (from opencv-python) (1.23.5)\n"
          ]
        }
      ]
    },
    {
      "cell_type": "code",
      "source": [
        "pip install pytube"
      ],
      "metadata": {
        "colab": {
          "base_uri": "https://localhost:8080/"
        },
        "id": "sz4s6GctD2Db",
        "outputId": "7860e15c-a051-434c-98c6-53db0aa69e9c"
      },
      "execution_count": 3,
      "outputs": [
        {
          "output_type": "stream",
          "name": "stdout",
          "text": [
            "Requirement already satisfied: pytube in /usr/local/lib/python3.10/dist-packages (15.0.0)\n"
          ]
        }
      ]
    },
    {
      "cell_type": "code",
      "source": [
        "from pytube import YouTube\n",
        "\n",
        "# YouTube video URL\n",
        "url = 'https://www.youtube.com/watch?v=goNOzX5vg48'\n",
        "\n",
        "yt = YouTube(url)\n",
        "\n",
        "# the highest resolution video stream\n",
        "video_stream = yt.streams.get_highest_resolution()\n",
        "\n",
        "# Download the video\n",
        "video_stream.download()\n"
      ],
      "metadata": {
        "colab": {
          "base_uri": "https://localhost:8080/",
          "height": 35
        },
        "id": "WtAyqboJD7wc",
        "outputId": "450bcace-1818-42eb-ebda-c70fb7e89e21"
      },
      "execution_count": 4,
      "outputs": [
        {
          "output_type": "execute_result",
          "data": {
            "text/plain": [
              "'/content/happy working people stock videos Free stock footage  Free HD Videos - No Copyright  happypeople.mp4'"
            ],
            "application/vnd.google.colaboratory.intrinsic+json": {
              "type": "string"
            }
          },
          "metadata": {},
          "execution_count": 4
        }
      ]
    },
    {
      "cell_type": "code",
      "source": [
        "import cv2\n"
      ],
      "metadata": {
        "id": "HChyr50C_oDP"
      },
      "execution_count": 5,
      "outputs": []
    },
    {
      "cell_type": "code",
      "source": [
        "hog = cv2.HOGDescriptor()\n",
        "hog.setSVMDetector(cv2.HOGDescriptor_getDefaultPeopleDetector())\n"
      ],
      "metadata": {
        "id": "Y7zltmjs_q0V"
      },
      "execution_count": 6,
      "outputs": []
    },
    {
      "cell_type": "code",
      "source": [
        "video = cv2.VideoCapture('/content/happy working people stock videos Free stock footage  Free HD Videos - No Copyright  happypeople.mp4')\n"
      ],
      "metadata": {
        "id": "7UefruZEAHEF"
      },
      "execution_count": 7,
      "outputs": []
    },
    {
      "cell_type": "code",
      "source": [
        "status, image = video.read()"
      ],
      "metadata": {
        "id": "-U2dZMgQAtwc"
      },
      "execution_count": 8,
      "outputs": []
    },
    {
      "cell_type": "code",
      "source": [
        "found, confidence = hog.detectMultiScale(image)"
      ],
      "metadata": {
        "id": "tnUxTRFICEE6"
      },
      "execution_count": 9,
      "outputs": []
    },
    {
      "cell_type": "code",
      "source": [
        "print(found)"
      ],
      "metadata": {
        "colab": {
          "base_uri": "https://localhost:8080/"
        },
        "id": "5tDOr2yaEI11",
        "outputId": "4f6c7f73-70a7-4c00-f902-85ec16c0ed23"
      },
      "execution_count": 10,
      "outputs": [
        {
          "output_type": "stream",
          "name": "stdout",
          "text": [
            "[[359 213 102 206]]\n"
          ]
        }
      ]
    },
    {
      "cell_type": "code",
      "source": [
        "print(confidence)"
      ],
      "metadata": {
        "colab": {
          "base_uri": "https://localhost:8080/"
        },
        "id": "CspWctorEKQV",
        "outputId": "ca656067-091e-4066-ef09-bb071ff74a23"
      },
      "execution_count": 11,
      "outputs": [
        {
          "output_type": "stream",
          "name": "stdout",
          "text": [
            "[0.46196756]\n"
          ]
        }
      ]
    },
    {
      "cell_type": "code",
      "source": [
        "print(image.size)\n",
        "print(image.shape)\n",
        "print(image)"
      ],
      "metadata": {
        "colab": {
          "base_uri": "https://localhost:8080/"
        },
        "id": "jCQq8ynQCvQ-",
        "outputId": "640970c5-1f57-4357-9c8d-7985c75a2219"
      },
      "execution_count": 12,
      "outputs": [
        {
          "output_type": "stream",
          "name": "stdout",
          "text": [
            "2764800\n",
            "(720, 1280, 3)\n",
            "[[[191 184 176]\n",
            "  [191 184 176]\n",
            "  [191 184 176]\n",
            "  ...\n",
            "  [194 190 180]\n",
            "  [194 190 180]\n",
            "  [194 190 180]]\n",
            "\n",
            " [[191 184 176]\n",
            "  [191 184 176]\n",
            "  [191 184 176]\n",
            "  ...\n",
            "  [194 190 180]\n",
            "  [194 190 180]\n",
            "  [194 190 180]]\n",
            "\n",
            " [[191 184 176]\n",
            "  [191 184 176]\n",
            "  [191 184 176]\n",
            "  ...\n",
            "  [194 190 180]\n",
            "  [194 190 180]\n",
            "  [194 190 180]]\n",
            "\n",
            " ...\n",
            "\n",
            " [[ 23  15  15]\n",
            "  [ 21  13  13]\n",
            "  [ 19  11  11]\n",
            "  ...\n",
            "  [ 46  43  44]\n",
            "  [ 46  43  44]\n",
            "  [ 46  43  44]]\n",
            "\n",
            " [[ 23  15  15]\n",
            "  [ 21  13  13]\n",
            "  [ 19  11  11]\n",
            "  ...\n",
            "  [ 47  44  45]\n",
            "  [ 47  44  45]\n",
            "  [ 46  43  44]]\n",
            "\n",
            " [[ 23  15  15]\n",
            "  [ 21  13  13]\n",
            "  [ 19  11  11]\n",
            "  ...\n",
            "  [ 47  44  45]\n",
            "  [ 47  44  45]\n",
            "  [ 47  44  45]]]\n"
          ]
        }
      ]
    },
    {
      "cell_type": "code",
      "source": [
        "cv2.imwrite('videoframe1.jpg',image)"
      ],
      "metadata": {
        "colab": {
          "base_uri": "https://localhost:8080/"
        },
        "id": "SgvKdQEeEQsT",
        "outputId": "6f4cf807-9e4b-429b-a330-6ea12bf08c8b"
      },
      "execution_count": 13,
      "outputs": [
        {
          "output_type": "execute_result",
          "data": {
            "text/plain": [
              "True"
            ]
          },
          "metadata": {},
          "execution_count": 13
        }
      ]
    },
    {
      "cell_type": "code",
      "source": [
        "![title](videoframe1.jpg)"
      ],
      "metadata": {
        "colab": {
          "base_uri": "https://localhost:8080/"
        },
        "id": "-eUJE43IFGa8",
        "outputId": "2ee369cc-4218-497c-ed95-9fd6d2bcaff2"
      },
      "execution_count": 14,
      "outputs": [
        {
          "output_type": "stream",
          "name": "stdout",
          "text": [
            "/bin/bash: -c: line 1: syntax error near unexpected token `videoframe1.jpg'\n",
            "/bin/bash: -c: line 1: `[title](videoframe1.jpg)'\n"
          ]
        }
      ]
    },
    {
      "cell_type": "code",
      "source": [
        " confCounter = 0\n",
        " for (x,y,w,h) in found:\n",
        "  cv2.rectangle(image, (x,y), (x+w, y+h), (0,255,0), 3)\n",
        "  cv2.putText(image, str(confidence[0]), (x,y), cv2.FONT_HERSHEY_SIMPLEX, 1, (0,255,0),2)\n",
        "  confCounter+=1"
      ],
      "metadata": {
        "id": "Aq0Kc9FEHmbL"
      },
      "execution_count": 15,
      "outputs": []
    },
    {
      "cell_type": "code",
      "source": [
        "cv2.imwrite('box.jpg', image)"
      ],
      "metadata": {
        "colab": {
          "base_uri": "https://localhost:8080/"
        },
        "id": "ZrJSDwyoI6ea",
        "outputId": "b166b920-d5f2-4a55-85a9-1c06c6cd0c4e"
      },
      "execution_count": 16,
      "outputs": [
        {
          "output_type": "execute_result",
          "data": {
            "text/plain": [
              "True"
            ]
          },
          "metadata": {},
          "execution_count": 16
        }
      ]
    },
    {
      "cell_type": "code",
      "source": [
        "![title](box.jpg)"
      ],
      "metadata": {
        "colab": {
          "base_uri": "https://localhost:8080/"
        },
        "id": "qWcezMAvKeIs",
        "outputId": "fff78e13-9152-42c9-87e8-a79a9b40b3f3"
      },
      "execution_count": 17,
      "outputs": [
        {
          "output_type": "stream",
          "name": "stdout",
          "text": [
            "/bin/bash: -c: line 1: syntax error near unexpected token `box.jpg'\n",
            "/bin/bash: -c: line 1: `[title](box.jpg)'\n"
          ]
        }
      ]
    },
    {
      "cell_type": "code",
      "source": [
        "print(\"there are \" + str(len(found)) + \" people\")"
      ],
      "metadata": {
        "colab": {
          "base_uri": "https://localhost:8080/"
        },
        "id": "COwKBcw_LESz",
        "outputId": "154d8f0f-69b5-4d89-b1c6-f885fa051846"
      },
      "execution_count": 18,
      "outputs": [
        {
          "output_type": "stream",
          "name": "stdout",
          "text": [
            "there are 1 people\n"
          ]
        }
      ]
    },
    {
      "cell_type": "code",
      "source": [
        "video = cv2.VideoCapture('/content/happy working people stock videos Free stock footage  Free HD Videos - No Copyright  happypeople.mp4')\n",
        "frameCounter = 0\n",
        "peopleCounter  = 0\n",
        "while video.isOpened():\n",
        "  status, image = video.read()\n",
        "  found, conf = hog.detectMultiScale(image)\n",
        "  peopleCounter += len(found)\n",
        "  frameCounter += 1\n",
        "  if frameCounter >= video.get(cv2.CAP_PROP_FRAME_COUNT):\n",
        "    break\n",
        "print(\" there are \" + str(peopleCounter) + \" in the video.\")"
      ],
      "metadata": {
        "id": "89-aPX_JMeCo"
      },
      "execution_count": null,
      "outputs": []
    }
  ]
}